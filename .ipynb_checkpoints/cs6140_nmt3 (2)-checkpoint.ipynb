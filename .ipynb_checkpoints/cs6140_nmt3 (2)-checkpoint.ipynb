{
 "cells": [
  {
   "cell_type": "code",
   "execution_count": 1,
   "metadata": {
    "id": "PntKuCa_amPI"
   },
   "outputs": [
    {
     "name": "stdout",
     "output_type": "stream",
     "text": [
      "Requirement already satisfied: transformers in /Users/prabhleenbindra/anaconda3/lib/python3.11/site-packages (4.32.1)\n",
      "Requirement already satisfied: datasets in /Users/prabhleenbindra/anaconda3/lib/python3.11/site-packages (2.12.0)\n",
      "Requirement already satisfied: evaluate in /Users/prabhleenbindra/anaconda3/lib/python3.11/site-packages (0.4.1)\n",
      "Requirement already satisfied: sacrebleu in /Users/prabhleenbindra/anaconda3/lib/python3.11/site-packages (2.4.0)\n",
      "Requirement already satisfied: filelock in /Users/prabhleenbindra/anaconda3/lib/python3.11/site-packages (from transformers) (3.9.0)\n",
      "Requirement already satisfied: huggingface-hub<1.0,>=0.15.1 in /Users/prabhleenbindra/anaconda3/lib/python3.11/site-packages (from transformers) (0.15.1)\n",
      "Requirement already satisfied: numpy>=1.17 in /Users/prabhleenbindra/anaconda3/lib/python3.11/site-packages (from transformers) (1.24.3)\n",
      "Requirement already satisfied: packaging>=20.0 in /Users/prabhleenbindra/anaconda3/lib/python3.11/site-packages (from transformers) (23.1)\n",
      "Requirement already satisfied: pyyaml>=5.1 in /Users/prabhleenbindra/anaconda3/lib/python3.11/site-packages (from transformers) (6.0)\n",
      "Requirement already satisfied: regex!=2019.12.17 in /Users/prabhleenbindra/anaconda3/lib/python3.11/site-packages (from transformers) (2022.7.9)\n",
      "Requirement already satisfied: requests in /Users/prabhleenbindra/anaconda3/lib/python3.11/site-packages (from transformers) (2.31.0)\n",
      "Requirement already satisfied: tokenizers!=0.11.3,<0.14,>=0.11.1 in /Users/prabhleenbindra/anaconda3/lib/python3.11/site-packages (from transformers) (0.13.2)\n",
      "Requirement already satisfied: safetensors>=0.3.1 in /Users/prabhleenbindra/anaconda3/lib/python3.11/site-packages (from transformers) (0.3.2)\n",
      "Requirement already satisfied: tqdm>=4.27 in /Users/prabhleenbindra/anaconda3/lib/python3.11/site-packages (from transformers) (4.65.0)\n",
      "Requirement already satisfied: pyarrow>=8.0.0 in /Users/prabhleenbindra/anaconda3/lib/python3.11/site-packages (from datasets) (11.0.0)\n",
      "Requirement already satisfied: dill<0.3.7,>=0.3.0 in /Users/prabhleenbindra/anaconda3/lib/python3.11/site-packages (from datasets) (0.3.6)\n",
      "Requirement already satisfied: pandas in /Users/prabhleenbindra/anaconda3/lib/python3.11/site-packages (from datasets) (1.5.3)\n",
      "Requirement already satisfied: xxhash in /Users/prabhleenbindra/anaconda3/lib/python3.11/site-packages (from datasets) (2.0.2)\n",
      "Requirement already satisfied: multiprocess in /Users/prabhleenbindra/anaconda3/lib/python3.11/site-packages (from datasets) (0.70.14)\n",
      "Requirement already satisfied: fsspec[http]>=2021.11.1 in /Users/prabhleenbindra/anaconda3/lib/python3.11/site-packages (from datasets) (2023.4.0)\n",
      "Requirement already satisfied: aiohttp in /Users/prabhleenbindra/anaconda3/lib/python3.11/site-packages (from datasets) (3.8.5)\n",
      "Requirement already satisfied: responses<0.19 in /Users/prabhleenbindra/anaconda3/lib/python3.11/site-packages (from datasets) (0.13.3)\n",
      "Requirement already satisfied: portalocker in /Users/prabhleenbindra/anaconda3/lib/python3.11/site-packages (from sacrebleu) (2.8.2)\n",
      "Requirement already satisfied: tabulate>=0.8.9 in /Users/prabhleenbindra/anaconda3/lib/python3.11/site-packages (from sacrebleu) (0.8.10)\n",
      "Requirement already satisfied: colorama in /Users/prabhleenbindra/anaconda3/lib/python3.11/site-packages (from sacrebleu) (0.4.6)\n",
      "Requirement already satisfied: lxml in /Users/prabhleenbindra/anaconda3/lib/python3.11/site-packages (from sacrebleu) (4.9.3)\n",
      "Requirement already satisfied: attrs>=17.3.0 in /Users/prabhleenbindra/anaconda3/lib/python3.11/site-packages (from aiohttp->datasets) (22.1.0)\n",
      "Requirement already satisfied: charset-normalizer<4.0,>=2.0 in /Users/prabhleenbindra/anaconda3/lib/python3.11/site-packages (from aiohttp->datasets) (2.0.4)\n",
      "Requirement already satisfied: multidict<7.0,>=4.5 in /Users/prabhleenbindra/anaconda3/lib/python3.11/site-packages (from aiohttp->datasets) (6.0.2)\n",
      "Requirement already satisfied: async-timeout<5.0,>=4.0.0a3 in /Users/prabhleenbindra/anaconda3/lib/python3.11/site-packages (from aiohttp->datasets) (4.0.2)\n",
      "Requirement already satisfied: yarl<2.0,>=1.0 in /Users/prabhleenbindra/anaconda3/lib/python3.11/site-packages (from aiohttp->datasets) (1.8.1)\n",
      "Requirement already satisfied: frozenlist>=1.1.1 in /Users/prabhleenbindra/anaconda3/lib/python3.11/site-packages (from aiohttp->datasets) (1.3.3)\n",
      "Requirement already satisfied: aiosignal>=1.1.2 in /Users/prabhleenbindra/anaconda3/lib/python3.11/site-packages (from aiohttp->datasets) (1.2.0)\n",
      "Requirement already satisfied: typing-extensions>=3.7.4.3 in /Users/prabhleenbindra/anaconda3/lib/python3.11/site-packages (from huggingface-hub<1.0,>=0.15.1->transformers) (4.7.1)\n",
      "Requirement already satisfied: idna<4,>=2.5 in /Users/prabhleenbindra/anaconda3/lib/python3.11/site-packages (from requests->transformers) (3.4)\n",
      "Requirement already satisfied: urllib3<3,>=1.21.1 in /Users/prabhleenbindra/anaconda3/lib/python3.11/site-packages (from requests->transformers) (1.26.16)\n",
      "Requirement already satisfied: certifi>=2017.4.17 in /Users/prabhleenbindra/anaconda3/lib/python3.11/site-packages (from requests->transformers) (2023.7.22)\n",
      "Requirement already satisfied: six in /Users/prabhleenbindra/anaconda3/lib/python3.11/site-packages (from responses<0.19->datasets) (1.16.0)\n",
      "Requirement already satisfied: python-dateutil>=2.8.1 in /Users/prabhleenbindra/anaconda3/lib/python3.11/site-packages (from pandas->datasets) (2.8.2)\n",
      "Requirement already satisfied: pytz>=2020.1 in /Users/prabhleenbindra/anaconda3/lib/python3.11/site-packages (from pandas->datasets) (2023.3.post1)\n"
     ]
    }
   ],
   "source": [
    " ! pip install transformers datasets evaluate sacrebleu"
   ]
  },
  {
   "cell_type": "code",
   "execution_count": null,
   "metadata": {
    "colab": {
     "base_uri": "https://localhost:8080/"
    },
    "id": "yqHLewLWaePq",
    "outputId": "0f9c3c1c-4045-479c-c830-8207ec1284d5"
   },
   "outputs": [
    {
     "data": {
      "application/vnd.jupyter.widget-view+json": {
       "model_id": "f513a56da7fb4737ab46dc112adfe33b",
       "version_major": 2,
       "version_minor": 0
      },
      "text/plain": [
       "Downloading readme:   0%|          | 0.00/3.11k [00:00<?, ?B/s]"
      ]
     },
     "metadata": {},
     "output_type": "display_data"
    },
    {
     "name": "stdout",
     "output_type": "stream",
     "text": [
      "Downloading and preparing dataset json/default (download: 181.38 MiB, generated: 427.93 MiB, post-processed: Unknown size, total: 609.31 MiB) to /Users/prabhleenbindra/.cache/huggingface/datasets/cfilt___parquet/cfilt--iitb-english-hindi-911387c6837f8b91/0.0.0/2a3b91fbd88a2c90d1dbbb32b460cf621d31bd5b05b934492fdef7d8d6f236ec...\n"
     ]
    },
    {
     "data": {
      "application/vnd.jupyter.widget-view+json": {
       "model_id": "fece051cdc794314b3b181d3d35a333e",
       "version_major": 2,
       "version_minor": 0
      },
      "text/plain": [
       "Downloading data files:   0%|          | 0/3 [00:00<?, ?it/s]"
      ]
     },
     "metadata": {},
     "output_type": "display_data"
    },
    {
     "data": {
      "application/vnd.jupyter.widget-view+json": {
       "model_id": "7779c8f8a14f4f1586d62079dd71a277",
       "version_major": 2,
       "version_minor": 0
      },
      "text/plain": [
       "Downloading data:   0%|          | 0.00/190M [00:00<?, ?B/s]"
      ]
     },
     "metadata": {},
     "output_type": "display_data"
    },
    {
     "data": {
      "application/vnd.jupyter.widget-view+json": {
       "model_id": "8113d1b4483e4fa598dcbd2620942af2",
       "version_major": 2,
       "version_minor": 0
      },
      "text/plain": [
       "Downloading data:   0%|          | 0.00/85.7k [00:00<?, ?B/s]"
      ]
     },
     "metadata": {},
     "output_type": "display_data"
    },
    {
     "data": {
      "application/vnd.jupyter.widget-view+json": {
       "model_id": "4faf531441524270b8be476f18284189",
       "version_major": 2,
       "version_minor": 0
      },
      "text/plain": [
       "Downloading data:   0%|          | 0.00/500k [00:00<?, ?B/s]"
      ]
     },
     "metadata": {},
     "output_type": "display_data"
    },
    {
     "data": {
      "application/vnd.jupyter.widget-view+json": {
       "model_id": "f4d75c931719436da19ecd6174cbc67f",
       "version_major": 2,
       "version_minor": 0
      },
      "text/plain": [
       "Extracting data files:   0%|          | 0/3 [00:00<?, ?it/s]"
      ]
     },
     "metadata": {},
     "output_type": "display_data"
    },
    {
     "data": {
      "application/vnd.jupyter.widget-view+json": {
       "model_id": "",
       "version_major": 2,
       "version_minor": 0
      },
      "text/plain": [
       "Generating train split:   0%|          | 0/1659083 [00:00<?, ? examples/s]"
      ]
     },
     "metadata": {},
     "output_type": "display_data"
    },
    {
     "data": {
      "application/vnd.jupyter.widget-view+json": {
       "model_id": "",
       "version_major": 2,
       "version_minor": 0
      },
      "text/plain": [
       "Generating validation split:   0%|          | 0/520 [00:00<?, ? examples/s]"
      ]
     },
     "metadata": {},
     "output_type": "display_data"
    },
    {
     "data": {
      "application/vnd.jupyter.widget-view+json": {
       "model_id": "",
       "version_major": 2,
       "version_minor": 0
      },
      "text/plain": [
       "Generating test split:   0%|          | 0/2507 [00:00<?, ? examples/s]"
      ]
     },
     "metadata": {},
     "output_type": "display_data"
    },
    {
     "name": "stdout",
     "output_type": "stream",
     "text": [
      "Dataset parquet downloaded and prepared to /Users/prabhleenbindra/.cache/huggingface/datasets/cfilt___parquet/cfilt--iitb-english-hindi-911387c6837f8b91/0.0.0/2a3b91fbd88a2c90d1dbbb32b460cf621d31bd5b05b934492fdef7d8d6f236ec. Subsequent calls will reuse this data.\n"
     ]
    },
    {
     "data": {
      "application/vnd.jupyter.widget-view+json": {
       "model_id": "6f1d6abb4e04454ab8dadb5b615250ea",
       "version_major": 2,
       "version_minor": 0
      },
      "text/plain": [
       "  0%|          | 0/3 [00:00<?, ?it/s]"
      ]
     },
     "metadata": {},
     "output_type": "display_data"
    },
    {
     "name": "stderr",
     "output_type": "stream",
     "text": [
      "/var/folders/jq/kz7wkyw119l0hh2x8vfr60gh0000gn/T/ipykernel_41544/2609043411.py:6: FutureWarning: load_metric is deprecated and will be removed in the next major version of datasets. Use 'evaluate.load' instead, from the new library 🤗 Evaluate: https://huggingface.co/docs/evaluate\n",
      "  metric = load_metric(\"sacrebleu\")\n"
     ]
    }
   ],
   "source": [
    "from datasets import load_dataset , load_metric\n",
    "from datasets import Dataset\n",
    "\n",
    "# Load the dataset\n",
    "raw_datasets = load_dataset(\"cfilt/iitb-english-hindi\")\n",
    "metric = load_metric(\"sacrebleu\")"
   ]
  },
  {
   "cell_type": "code",
   "execution_count": 2,
   "metadata": {
    "colab": {
     "base_uri": "https://localhost:8080/"
    },
    "id": "TJ9JUZRDakB9",
    "outputId": "b4974549-d124-4433-94d7-7a58445a1812"
   },
   "outputs": [
    {
     "data": {
      "text/plain": [
       "{'translation': {'en': 'Give your application an accessibility workout',\n",
       "  'hi': 'अपने अनुप्रयोग को पहुंचनीयता व्यायाम का लाभ दें'}}"
      ]
     },
     "execution_count": 2,
     "metadata": {},
     "output_type": "execute_result"
    }
   ],
   "source": [
    "raw_datasets[\"train\"][0]"
   ]
  },
  {
   "cell_type": "code",
   "execution_count": 3,
   "metadata": {
    "colab": {
     "base_uri": "https://localhost:8080/"
    },
    "id": "_rUUjY2ubAZx",
    "outputId": "eccabd67-ffda-46ba-a429-0b3563d81adc"
   },
   "outputs": [
    {
     "data": {
      "text/plain": [
       "{'translation': {'en': 'A black box in your car?',\n",
       "  'hi': 'आपकी कार में ब्लैक बॉक्स?'}}"
      ]
     },
     "execution_count": 3,
     "metadata": {},
     "output_type": "execute_result"
    }
   ],
   "source": [
    "raw_datasets[\"test\"][0]"
   ]
  },
  {
   "cell_type": "code",
   "execution_count": 4,
   "metadata": {
    "id": "AVaMUcoRbCXj"
   },
   "outputs": [],
   "source": [
    "import datasets\n",
    "import random\n",
    "import pandas as pd\n",
    "from IPython.display import display, HTML\n",
    "\n",
    "def show_random_elements(dataset, num_examples=5):\n",
    "    assert num_examples <= len(dataset), \"Can't pick more elements than there are in the dataset.\"\n",
    "    picks = []\n",
    "    for _ in range(num_examples):\n",
    "        pick = random.randint(0, len(dataset)-1)\n",
    "        while pick in picks:\n",
    "            pick = random.randint(0, len(dataset)-1)\n",
    "        picks.append(pick)\n",
    "\n",
    "    df = pd.DataFrame(dataset[picks])\n",
    "    for column, typ in dataset.features.items():\n",
    "        if isinstance(typ, datasets.ClassLabel):\n",
    "            df[column] = df[column].transform(lambda i: typ.names[i])\n",
    "    display(HTML(df.to_html()))"
   ]
  },
  {
   "cell_type": "code",
   "execution_count": 5,
   "metadata": {
    "colab": {
     "base_uri": "https://localhost:8080/",
     "height": 241
    },
    "id": "l-9zm5arbE5-",
    "outputId": "7cddbed0-d6a9-4431-dfec-4a5f6a0693f0"
   },
   "outputs": [
    {
     "data": {
      "text/html": [
       "<table border=\"1\" class=\"dataframe\">\n",
       "  <thead>\n",
       "    <tr style=\"text-align: right;\">\n",
       "      <th></th>\n",
       "      <th>translation</th>\n",
       "    </tr>\n",
       "  </thead>\n",
       "  <tbody>\n",
       "    <tr>\n",
       "      <th>0</th>\n",
       "      <td>{'en': 'JOKER', 'hi': 'जोकरcard symbol'}</td>\n",
       "    </tr>\n",
       "    <tr>\n",
       "      <th>1</th>\n",
       "      <td>{'en': 'Strips were not compatible', 'hi': 'स्ट्रिप्स संगत नहीं थे'}</td>\n",
       "    </tr>\n",
       "    <tr>\n",
       "      <th>2</th>\n",
       "      <td>{'en': 'Zanzibar', 'hi': 'ज़ांज़ीबारी'}</td>\n",
       "    </tr>\n",
       "    <tr>\n",
       "      <th>3</th>\n",
       "      <td>{'en': 'The institute also consists of a museum of tractors, farm machinery and equipment.', 'hi': 'संस्थान में ट्रैक्टरों का फार्म मशीनरी और उपकरणों संग्रहालय भी है। '}</td>\n",
       "    </tr>\n",
       "    <tr>\n",
       "      <th>4</th>\n",
       "      <td>{'en': 'It is Allah who made for you the earth a place of settlement and the sky a ceiling and formed you and perfected your forms and provided you with good things. That is Allah, your Lord; then blessed is Allah, Lord of the worlds.', 'hi': 'अल्लाह ही है जिसने तुम्हारे लिए धरती को ठहरने का स्थान बनाया और आकाश को एक भवन के रूप में बनाया, और तुम्हें रूप दिए तो क्या ही अच्छे रूप दिए, और तुम्हें अच्छी पाक चीज़ों की रोज़ी दी। वह है अल्लाह, तुम्हारा रब। तो बड़ी बरकतवाला है अल्लाह, सारे संसार का रब'}</td>\n",
       "    </tr>\n",
       "  </tbody>\n",
       "</table>"
      ],
      "text/plain": [
       "<IPython.core.display.HTML object>"
      ]
     },
     "metadata": {},
     "output_type": "display_data"
    }
   ],
   "source": [
    "show_random_elements(raw_datasets[\"train\"])"
   ]
  },
  {
   "cell_type": "code",
   "execution_count": 6,
   "metadata": {
    "id": "T_VxBqgEbHF0"
   },
   "outputs": [],
   "source": [
    "data = raw_datasets[\"train\"][\"translation\"]\n",
    "\n",
    "rows = [{\"en\": item[\"en\"], \"hi\": item[\"hi\"]} for item in data]"
   ]
  },
  {
   "cell_type": "code",
   "execution_count": 7,
   "metadata": {
    "colab": {
     "base_uri": "https://localhost:8080/",
     "height": 563
    },
    "id": "s3itlNjgbJ_J",
    "outputId": "f39f563f-91be-477b-d0f3-295fd6fbc433"
   },
   "outputs": [
    {
     "data": {
      "text/html": [
       "<div>\n",
       "<style scoped>\n",
       "    .dataframe tbody tr th:only-of-type {\n",
       "        vertical-align: middle;\n",
       "    }\n",
       "\n",
       "    .dataframe tbody tr th {\n",
       "        vertical-align: top;\n",
       "    }\n",
       "\n",
       "    .dataframe thead th {\n",
       "        text-align: right;\n",
       "    }\n",
       "</style>\n",
       "<table border=\"1\" class=\"dataframe\">\n",
       "  <thead>\n",
       "    <tr style=\"text-align: right;\">\n",
       "      <th></th>\n",
       "      <th>en</th>\n",
       "      <th>hi</th>\n",
       "    </tr>\n",
       "  </thead>\n",
       "  <tbody>\n",
       "    <tr>\n",
       "      <th>0</th>\n",
       "      <td>Give your application an accessibility workout</td>\n",
       "      <td>अपने अनुप्रयोग को पहुंचनीयता व्यायाम का लाभ दें</td>\n",
       "    </tr>\n",
       "    <tr>\n",
       "      <th>1</th>\n",
       "      <td>Accerciser Accessibility Explorer</td>\n",
       "      <td>एक्सेर्साइसर पहुंचनीयता अन्वेषक</td>\n",
       "    </tr>\n",
       "    <tr>\n",
       "      <th>2</th>\n",
       "      <td>The default plugin layout for the bottom panel</td>\n",
       "      <td>निचले पटल के लिए डिफोल्ट प्लग-इन खाका</td>\n",
       "    </tr>\n",
       "    <tr>\n",
       "      <th>3</th>\n",
       "      <td>The default plugin layout for the top panel</td>\n",
       "      <td>ऊपरी पटल के लिए डिफोल्ट प्लग-इन खाका</td>\n",
       "    </tr>\n",
       "    <tr>\n",
       "      <th>4</th>\n",
       "      <td>A list of plugins that are disabled by default</td>\n",
       "      <td>उन प्लग-इनों की सूची जिन्हें डिफोल्ट रूप से नि...</td>\n",
       "    </tr>\n",
       "    <tr>\n",
       "      <th>...</th>\n",
       "      <td>...</td>\n",
       "      <td>...</td>\n",
       "    </tr>\n",
       "    <tr>\n",
       "      <th>1659078</th>\n",
       "      <td>The Prime Minister, Shri Narendra Modi has con...</td>\n",
       "      <td>प्रधानमंत्री श्री नरेन्द्र मोदी ने बिहार के मु...</td>\n",
       "    </tr>\n",
       "    <tr>\n",
       "      <th>1659079</th>\n",
       "      <td>In a tweet, the Prime Minister said, congratul...</td>\n",
       "      <td>एक ट्वीट में प्रधानमंत्री ने कहा, बिहार के मुख...</td>\n",
       "    </tr>\n",
       "    <tr>\n",
       "      <th>1659080</th>\n",
       "      <td>I also congratulate all those who took oath as...</td>\n",
       "      <td>मैं उन सभी को भी बधाई देता हूं, जिन्होंने बिहा...</td>\n",
       "    </tr>\n",
       "    <tr>\n",
       "      <th>1659081</th>\n",
       "      <td>The NDA family will work together for the prog...</td>\n",
       "      <td>एनडीए परिवार बिहार की प्रगति के लिए साथ मिलकर ...</td>\n",
       "    </tr>\n",
       "    <tr>\n",
       "      <th>1659082</th>\n",
       "      <td>I assure all possible support from the Centre ...</td>\n",
       "      <td>बिहार के कल्याण के लिए केंद्र की ओर से हरसंभव ...</td>\n",
       "    </tr>\n",
       "  </tbody>\n",
       "</table>\n",
       "<p>1659083 rows × 2 columns</p>\n",
       "</div>"
      ],
      "text/plain": [
       "                                                        en  \\\n",
       "0           Give your application an accessibility workout   \n",
       "1                        Accerciser Accessibility Explorer   \n",
       "2           The default plugin layout for the bottom panel   \n",
       "3              The default plugin layout for the top panel   \n",
       "4           A list of plugins that are disabled by default   \n",
       "...                                                    ...   \n",
       "1659078  The Prime Minister, Shri Narendra Modi has con...   \n",
       "1659079  In a tweet, the Prime Minister said, congratul...   \n",
       "1659080  I also congratulate all those who took oath as...   \n",
       "1659081  The NDA family will work together for the prog...   \n",
       "1659082  I assure all possible support from the Centre ...   \n",
       "\n",
       "                                                        hi  \n",
       "0          अपने अनुप्रयोग को पहुंचनीयता व्यायाम का लाभ दें  \n",
       "1                          एक्सेर्साइसर पहुंचनीयता अन्वेषक  \n",
       "2                    निचले पटल के लिए डिफोल्ट प्लग-इन खाका  \n",
       "3                     ऊपरी पटल के लिए डिफोल्ट प्लग-इन खाका  \n",
       "4        उन प्लग-इनों की सूची जिन्हें डिफोल्ट रूप से नि...  \n",
       "...                                                    ...  \n",
       "1659078  प्रधानमंत्री श्री नरेन्द्र मोदी ने बिहार के मु...  \n",
       "1659079  एक ट्वीट में प्रधानमंत्री ने कहा, बिहार के मुख...  \n",
       "1659080  मैं उन सभी को भी बधाई देता हूं, जिन्होंने बिहा...  \n",
       "1659081  एनडीए परिवार बिहार की प्रगति के लिए साथ मिलकर ...  \n",
       "1659082  बिहार के कल्याण के लिए केंद्र की ओर से हरसंभव ...  \n",
       "\n",
       "[1659083 rows x 2 columns]"
      ]
     },
     "execution_count": 7,
     "metadata": {},
     "output_type": "execute_result"
    }
   ],
   "source": [
    "df = pd.DataFrame(rows)\n",
    "df"
   ]
  },
  {
   "cell_type": "code",
   "execution_count": 8,
   "metadata": {
    "id": "6VzrkShsbOjQ"
   },
   "outputs": [
    {
     "name": "stderr",
     "output_type": "stream",
     "text": [
      "/home/bindra.p/.local/lib/python3.8/site-packages/torch/cuda/__init__.py:138: UserWarning: CUDA initialization: The NVIDIA driver on your system is too old (found version 11040). Please update your GPU driver by downloading and installing a new version from the URL: http://www.nvidia.com/Download/index.aspx Alternatively, go to: https://pytorch.org to install a PyTorch version that has been compiled with your version of the CUDA driver. (Triggered internally at ../c10/cuda/CUDAFunctions.cpp:108.)\n",
      "  return torch._C._cuda_getDeviceCount() > 0\n"
     ]
    }
   ],
   "source": [
    "import string\n",
    "import random\n",
    "import re\n",
    "import torch\n",
    "import torch.nn as nn\n",
    "import torch.optim as optim\n",
    "import torch.nn.functional as F\n",
    "\n",
    "#setting the device to \"cuda\" if available\n",
    "device = torch.device(\"cuda\" if torch.cuda.is_available() else \"cpu\")"
   ]
  },
  {
   "cell_type": "code",
   "execution_count": 9,
   "metadata": {
    "id": "OZSYlB5kbTkr"
   },
   "outputs": [],
   "source": [
    "def preprocess(lang, df):\n",
    "    for l in lang:\n",
    "        df[l]=df[l].apply(lambda x: x.lower())\n",
    "    for l in lang:\n",
    "        df[l]=df[l].apply(lambda x: re.sub(\"'\", '', x)) # single quote\n",
    "        df[l]=df[l].apply(lambda x: re.sub('\"', '', x)) # double quotes\n",
    "      # df[l]=df[l].apply(lambda x: re.sub('#', '', x))\n",
    "      # df[l]=df[l].apply(lambda x: re.sub('(', '', x))\n",
    "      # df[l]=df[l].apply(lambda x: re.sub(')', '', x))\n",
    "\n",
    "    punct_en = set(string.punctuation)  # standard english punctuations\n",
    "    punct_hi = set('|,;?!-‐:-.#()') # standard hindi punctuations\n",
    "\n",
    "    def contains_ascii(sentence):\n",
    "        return any(char in string.ascii_letters for char in sentence)\n",
    "\n",
    "    for l in lang:\n",
    "        if l == 'en':\n",
    "            df[l] = df[l].apply(lambda x: ''.join(char1 for char1 in x if char1 not in punct_en))\n",
    "        elif l == 'hi':\n",
    "            df[l] = df[l].apply(lambda x: ''.join(char1 for char1 in x if char1 not in punct_hi))\n",
    "            # Apply the function to filter rows\n",
    "            df = df.loc[~df['hi'].apply(contains_ascii)]\n",
    "\n",
    "  # en_digits = str.maketrans('','', '0123456789')\n",
    "  # hi_digits = str.maketrans('','','०१२३४५६७८९')\n",
    "\n",
    "  # for l in lang:\n",
    "  #     if (l == 'en'):\n",
    "  #         df[l] = df[l].apply(lambda x: x.translate(en_digits))\n",
    "  #     elif l == 'hi':\n",
    "  #         df[l] = df[l].apply(lambda x: x.translate(hi_digits))\n",
    "\n",
    "  # remove white spaces\n",
    "    for l in lang:\n",
    "        df[l] = df[l].apply(lambda x: x.strip())\n",
    "    return df"
   ]
  },
  {
   "cell_type": "code",
   "execution_count": 10,
   "metadata": {
    "colab": {
     "base_uri": "https://localhost:8080/"
    },
    "id": "mRfO53R9bXVy",
    "outputId": "3d53da6f-8fdf-4415-fd5a-796bf67b8f3b"
   },
   "outputs": [
    {
     "name": "stderr",
     "output_type": "stream",
     "text": [
      "<ipython-input-9-e03f8e2b0652>:36: SettingWithCopyWarning: \n",
      "A value is trying to be set on a copy of a slice from a DataFrame.\n",
      "Try using .loc[row_indexer,col_indexer] = value instead\n",
      "\n",
      "See the caveats in the documentation: https://pandas.pydata.org/pandas-docs/stable/user_guide/indexing.html#returning-a-view-versus-a-copy\n",
      "  df[l] = df[l].apply(lambda x: x.strip())\n"
     ]
    }
   ],
   "source": [
    "lang = ['en','hi']\n",
    "df = preprocess(lang, df)"
   ]
  },
  {
   "cell_type": "code",
   "execution_count": 11,
   "metadata": {
    "colab": {
     "base_uri": "https://localhost:8080/"
    },
    "id": "_zGeraADbZ6N",
    "outputId": "92b0ee1a-fd38-4e1c-9c4b-b1b5b880ad8b"
   },
   "outputs": [
    {
     "name": "stderr",
     "output_type": "stream",
     "text": [
      "/shared/centos7/anaconda3/2022.01/lib/python3.8/site-packages/pandas/core/indexing.py:1597: SettingWithCopyWarning: \n",
      "A value is trying to be set on a copy of a slice from a DataFrame.\n",
      "Try using .loc[row_indexer,col_indexer] = value instead\n",
      "\n",
      "See the caveats in the documentation: https://pandas.pydata.org/pandas-docs/stable/user_guide/indexing.html#returning-a-view-versus-a-copy\n",
      "  self.obj[key] = value\n",
      "/shared/centos7/anaconda3/2022.01/lib/python3.8/site-packages/pandas/core/indexing.py:1676: SettingWithCopyWarning: \n",
      "A value is trying to be set on a copy of a slice from a DataFrame.\n",
      "Try using .loc[row_indexer,col_indexer] = value instead\n",
      "\n",
      "See the caveats in the documentation: https://pandas.pydata.org/pandas-docs/stable/user_guide/indexing.html#returning-a-view-versus-a-copy\n",
      "  self._setitem_single_column(ilocs[0], value, pi)\n"
     ]
    }
   ],
   "source": [
    "for l in lang:\n",
    "    df.loc[:, str(l+'_tr')] = df[l].apply(lambda x: '<SOS> ' + x + ' <EOS>')"
   ]
  },
  {
   "cell_type": "code",
   "execution_count": 12,
   "metadata": {
    "colab": {
     "base_uri": "https://localhost:8080/",
     "height": 858
    },
    "id": "zxM3xyl8cU5e",
    "outputId": "1e0b4451-cd65-4d29-9471-43cdd41e5cc8"
   },
   "outputs": [
    {
     "data": {
      "text/html": [
       "<div>\n",
       "<style scoped>\n",
       "    .dataframe tbody tr th:only-of-type {\n",
       "        vertical-align: middle;\n",
       "    }\n",
       "\n",
       "    .dataframe tbody tr th {\n",
       "        vertical-align: top;\n",
       "    }\n",
       "\n",
       "    .dataframe thead th {\n",
       "        text-align: right;\n",
       "    }\n",
       "</style>\n",
       "<table border=\"1\" class=\"dataframe\">\n",
       "  <thead>\n",
       "    <tr style=\"text-align: right;\">\n",
       "      <th></th>\n",
       "      <th>en</th>\n",
       "      <th>hi</th>\n",
       "      <th>en_tr</th>\n",
       "      <th>hi_tr</th>\n",
       "    </tr>\n",
       "  </thead>\n",
       "  <tbody>\n",
       "    <tr>\n",
       "      <th>0</th>\n",
       "      <td>give your application an accessibility workout</td>\n",
       "      <td>अपने अनुप्रयोग को पहुंचनीयता व्यायाम का लाभ दें</td>\n",
       "      <td>&lt;SOS&gt; give your application an accessibility w...</td>\n",
       "      <td>&lt;SOS&gt; अपने अनुप्रयोग को पहुंचनीयता व्यायाम का ...</td>\n",
       "    </tr>\n",
       "    <tr>\n",
       "      <th>1</th>\n",
       "      <td>accerciser accessibility explorer</td>\n",
       "      <td>एक्सेर्साइसर पहुंचनीयता अन्वेषक</td>\n",
       "      <td>&lt;SOS&gt; accerciser accessibility explorer &lt;EOS&gt;</td>\n",
       "      <td>&lt;SOS&gt; एक्सेर्साइसर पहुंचनीयता अन्वेषक &lt;EOS&gt;</td>\n",
       "    </tr>\n",
       "    <tr>\n",
       "      <th>2</th>\n",
       "      <td>the default plugin layout for the bottom panel</td>\n",
       "      <td>निचले पटल के लिए डिफोल्ट प्लगइन खाका</td>\n",
       "      <td>&lt;SOS&gt; the default plugin layout for the bottom...</td>\n",
       "      <td>&lt;SOS&gt; निचले पटल के लिए डिफोल्ट प्लगइन खाका &lt;EOS&gt;</td>\n",
       "    </tr>\n",
       "    <tr>\n",
       "      <th>3</th>\n",
       "      <td>the default plugin layout for the top panel</td>\n",
       "      <td>ऊपरी पटल के लिए डिफोल्ट प्लगइन खाका</td>\n",
       "      <td>&lt;SOS&gt; the default plugin layout for the top pa...</td>\n",
       "      <td>&lt;SOS&gt; ऊपरी पटल के लिए डिफोल्ट प्लगइन खाका &lt;EOS&gt;</td>\n",
       "    </tr>\n",
       "    <tr>\n",
       "      <th>4</th>\n",
       "      <td>a list of plugins that are disabled by default</td>\n",
       "      <td>उन प्लगइनों की सूची जिन्हें डिफोल्ट रूप से निष...</td>\n",
       "      <td>&lt;SOS&gt; a list of plugins that are disabled by d...</td>\n",
       "      <td>&lt;SOS&gt; उन प्लगइनों की सूची जिन्हें डिफोल्ट रूप ...</td>\n",
       "    </tr>\n",
       "    <tr>\n",
       "      <th>...</th>\n",
       "      <td>...</td>\n",
       "      <td>...</td>\n",
       "      <td>...</td>\n",
       "      <td>...</td>\n",
       "    </tr>\n",
       "    <tr>\n",
       "      <th>1659078</th>\n",
       "      <td>the prime minister shri narendra modi has cong...</td>\n",
       "      <td>प्रधानमंत्री श्री नरेन्द्र मोदी ने बिहार के मु...</td>\n",
       "      <td>&lt;SOS&gt; the prime minister shri narendra modi ha...</td>\n",
       "      <td>&lt;SOS&gt; प्रधानमंत्री श्री नरेन्द्र मोदी ने बिहार...</td>\n",
       "    </tr>\n",
       "    <tr>\n",
       "      <th>1659079</th>\n",
       "      <td>in a tweet the prime minister said congratulat...</td>\n",
       "      <td>एक ट्वीट में प्रधानमंत्री ने कहा बिहार के मुख्...</td>\n",
       "      <td>&lt;SOS&gt; in a tweet the prime minister said congr...</td>\n",
       "      <td>&lt;SOS&gt; एक ट्वीट में प्रधानमंत्री ने कहा बिहार क...</td>\n",
       "    </tr>\n",
       "    <tr>\n",
       "      <th>1659080</th>\n",
       "      <td>i also congratulate all those who took oath as...</td>\n",
       "      <td>मैं उन सभी को भी बधाई देता हूं जिन्होंने बिहार...</td>\n",
       "      <td>&lt;SOS&gt; i also congratulate all those who took o...</td>\n",
       "      <td>&lt;SOS&gt; मैं उन सभी को भी बधाई देता हूं जिन्होंने...</td>\n",
       "    </tr>\n",
       "    <tr>\n",
       "      <th>1659081</th>\n",
       "      <td>the nda family will work together for the prog...</td>\n",
       "      <td>एनडीए परिवार बिहार की प्रगति के लिए साथ मिलकर ...</td>\n",
       "      <td>&lt;SOS&gt; the nda family will work together for th...</td>\n",
       "      <td>&lt;SOS&gt; एनडीए परिवार बिहार की प्रगति के लिए साथ ...</td>\n",
       "    </tr>\n",
       "    <tr>\n",
       "      <th>1659082</th>\n",
       "      <td>i assure all possible support from the centre ...</td>\n",
       "      <td>बिहार के कल्याण के लिए केंद्र की ओर से हरसंभव ...</td>\n",
       "      <td>&lt;SOS&gt; i assure all possible support from the c...</td>\n",
       "      <td>&lt;SOS&gt; बिहार के कल्याण के लिए केंद्र की ओर से ह...</td>\n",
       "    </tr>\n",
       "  </tbody>\n",
       "</table>\n",
       "<p>1527115 rows × 4 columns</p>\n",
       "</div>"
      ],
      "text/plain": [
       "                                                        en  \\\n",
       "0           give your application an accessibility workout   \n",
       "1                        accerciser accessibility explorer   \n",
       "2           the default plugin layout for the bottom panel   \n",
       "3              the default plugin layout for the top panel   \n",
       "4           a list of plugins that are disabled by default   \n",
       "...                                                    ...   \n",
       "1659078  the prime minister shri narendra modi has cong...   \n",
       "1659079  in a tweet the prime minister said congratulat...   \n",
       "1659080  i also congratulate all those who took oath as...   \n",
       "1659081  the nda family will work together for the prog...   \n",
       "1659082  i assure all possible support from the centre ...   \n",
       "\n",
       "                                                        hi  \\\n",
       "0          अपने अनुप्रयोग को पहुंचनीयता व्यायाम का लाभ दें   \n",
       "1                          एक्सेर्साइसर पहुंचनीयता अन्वेषक   \n",
       "2                     निचले पटल के लिए डिफोल्ट प्लगइन खाका   \n",
       "3                      ऊपरी पटल के लिए डिफोल्ट प्लगइन खाका   \n",
       "4        उन प्लगइनों की सूची जिन्हें डिफोल्ट रूप से निष...   \n",
       "...                                                    ...   \n",
       "1659078  प्रधानमंत्री श्री नरेन्द्र मोदी ने बिहार के मु...   \n",
       "1659079  एक ट्वीट में प्रधानमंत्री ने कहा बिहार के मुख्...   \n",
       "1659080  मैं उन सभी को भी बधाई देता हूं जिन्होंने बिहार...   \n",
       "1659081  एनडीए परिवार बिहार की प्रगति के लिए साथ मिलकर ...   \n",
       "1659082  बिहार के कल्याण के लिए केंद्र की ओर से हरसंभव ...   \n",
       "\n",
       "                                                     en_tr  \\\n",
       "0        <SOS> give your application an accessibility w...   \n",
       "1            <SOS> accerciser accessibility explorer <EOS>   \n",
       "2        <SOS> the default plugin layout for the bottom...   \n",
       "3        <SOS> the default plugin layout for the top pa...   \n",
       "4        <SOS> a list of plugins that are disabled by d...   \n",
       "...                                                    ...   \n",
       "1659078  <SOS> the prime minister shri narendra modi ha...   \n",
       "1659079  <SOS> in a tweet the prime minister said congr...   \n",
       "1659080  <SOS> i also congratulate all those who took o...   \n",
       "1659081  <SOS> the nda family will work together for th...   \n",
       "1659082  <SOS> i assure all possible support from the c...   \n",
       "\n",
       "                                                     hi_tr  \n",
       "0        <SOS> अपने अनुप्रयोग को पहुंचनीयता व्यायाम का ...  \n",
       "1              <SOS> एक्सेर्साइसर पहुंचनीयता अन्वेषक <EOS>  \n",
       "2         <SOS> निचले पटल के लिए डिफोल्ट प्लगइन खाका <EOS>  \n",
       "3          <SOS> ऊपरी पटल के लिए डिफोल्ट प्लगइन खाका <EOS>  \n",
       "4        <SOS> उन प्लगइनों की सूची जिन्हें डिफोल्ट रूप ...  \n",
       "...                                                    ...  \n",
       "1659078  <SOS> प्रधानमंत्री श्री नरेन्द्र मोदी ने बिहार...  \n",
       "1659079  <SOS> एक ट्वीट में प्रधानमंत्री ने कहा बिहार क...  \n",
       "1659080  <SOS> मैं उन सभी को भी बधाई देता हूं जिन्होंने...  \n",
       "1659081  <SOS> एनडीए परिवार बिहार की प्रगति के लिए साथ ...  \n",
       "1659082  <SOS> बिहार के कल्याण के लिए केंद्र की ओर से ह...  \n",
       "\n",
       "[1527115 rows x 4 columns]"
      ]
     },
     "execution_count": 12,
     "metadata": {},
     "output_type": "execute_result"
    }
   ],
   "source": [
    "df"
   ]
  },
  {
   "cell_type": "code",
   "execution_count": 53,
   "metadata": {
    "id": "2-xs-vGcbliK"
   },
   "outputs": [],
   "source": [
    "# src = df.en_tr.to_list() + df.hi_tr.to_list()\n",
    "# trgt = df.hi_tr.to_list() + df.en_tr.to_list()\n",
    "\n",
    "src = df.hi_tr.to_list()\n",
    "trgt = df.en_tr.to_list()\n",
    "\n",
    "# convert the list to dataframe\n",
    "df_eh = pd.DataFrame ({\n",
    "                        'src': src,\n",
    "                        'trgt': trgt })"
   ]
  },
  {
   "cell_type": "code",
   "execution_count": 54,
   "metadata": {
    "id": "IQvB3_ZRbumX"
   },
   "outputs": [],
   "source": [
    "# get the word count for src & target\n",
    "df_eh['src_len'] = df_eh['src'].apply(lambda x:len(x.split(\" \")))\n",
    "df_eh['trgt_len']=df_eh['trgt'].apply(lambda x:len(x.split(\" \")))"
   ]
  },
  {
   "cell_type": "code",
   "execution_count": 55,
   "metadata": {
    "colab": {
     "base_uri": "https://localhost:8080/",
     "height": 81
    },
    "id": "JEZAvDllbw_A",
    "outputId": "bec328d1-bbf2-46bd-b411-d163b80b57e4"
   },
   "outputs": [
    {
     "data": {
      "text/html": [
       "<div>\n",
       "<style scoped>\n",
       "    .dataframe tbody tr th:only-of-type {\n",
       "        vertical-align: middle;\n",
       "    }\n",
       "\n",
       "    .dataframe tbody tr th {\n",
       "        vertical-align: top;\n",
       "    }\n",
       "\n",
       "    .dataframe thead th {\n",
       "        text-align: right;\n",
       "    }\n",
       "</style>\n",
       "<table border=\"1\" class=\"dataframe\">\n",
       "  <thead>\n",
       "    <tr style=\"text-align: right;\">\n",
       "      <th></th>\n",
       "      <th>count</th>\n",
       "      <th>mean</th>\n",
       "      <th>std</th>\n",
       "      <th>min</th>\n",
       "      <th>25%</th>\n",
       "      <th>50%</th>\n",
       "      <th>75%</th>\n",
       "      <th>95%</th>\n",
       "      <th>max</th>\n",
       "    </tr>\n",
       "  </thead>\n",
       "  <tbody>\n",
       "    <tr>\n",
       "      <th>src_len</th>\n",
       "      <td>1527115.0</td>\n",
       "      <td>16.307187</td>\n",
       "      <td>16.345626</td>\n",
       "      <td>3.0</td>\n",
       "      <td>4.0</td>\n",
       "      <td>12.0</td>\n",
       "      <td>22.0</td>\n",
       "      <td>46.0</td>\n",
       "      <td>1382.0</td>\n",
       "    </tr>\n",
       "  </tbody>\n",
       "</table>\n",
       "</div>"
      ],
      "text/plain": [
       "             count       mean        std  min  25%   50%   75%   95%     max\n",
       "src_len  1527115.0  16.307187  16.345626  3.0  4.0  12.0  22.0  46.0  1382.0"
      ]
     },
     "execution_count": 55,
     "metadata": {},
     "output_type": "execute_result"
    }
   ],
   "source": [
    "# word count stats for source\n",
    "df_eh[['src_len']].describe(percentiles = [.25, .5, .75, .95]).transpose()"
   ]
  },
  {
   "cell_type": "code",
   "execution_count": 56,
   "metadata": {
    "colab": {
     "base_uri": "https://localhost:8080/",
     "height": 81
    },
    "id": "LKy-c4Bwb0ga",
    "outputId": "e8544a13-ec1d-4783-d1f6-2e1b6135c0ef"
   },
   "outputs": [
    {
     "data": {
      "text/html": [
       "<div>\n",
       "<style scoped>\n",
       "    .dataframe tbody tr th:only-of-type {\n",
       "        vertical-align: middle;\n",
       "    }\n",
       "\n",
       "    .dataframe tbody tr th {\n",
       "        vertical-align: top;\n",
       "    }\n",
       "\n",
       "    .dataframe thead th {\n",
       "        text-align: right;\n",
       "    }\n",
       "</style>\n",
       "<table border=\"1\" class=\"dataframe\">\n",
       "  <thead>\n",
       "    <tr style=\"text-align: right;\">\n",
       "      <th></th>\n",
       "      <th>count</th>\n",
       "      <th>mean</th>\n",
       "      <th>std</th>\n",
       "      <th>min</th>\n",
       "      <th>25%</th>\n",
       "      <th>50%</th>\n",
       "      <th>75%</th>\n",
       "      <th>95%</th>\n",
       "      <th>max</th>\n",
       "    </tr>\n",
       "  </thead>\n",
       "  <tbody>\n",
       "    <tr>\n",
       "      <th>trgt_len</th>\n",
       "      <td>1527115.0</td>\n",
       "      <td>15.295724</td>\n",
       "      <td>14.953927</td>\n",
       "      <td>3.0</td>\n",
       "      <td>4.0</td>\n",
       "      <td>11.0</td>\n",
       "      <td>21.0</td>\n",
       "      <td>42.0</td>\n",
       "      <td>1919.0</td>\n",
       "    </tr>\n",
       "  </tbody>\n",
       "</table>\n",
       "</div>"
      ],
      "text/plain": [
       "              count       mean        std  min  25%   50%   75%   95%     max\n",
       "trgt_len  1527115.0  15.295724  14.953927  3.0  4.0  11.0  21.0  42.0  1919.0"
      ]
     },
     "execution_count": 56,
     "metadata": {},
     "output_type": "execute_result"
    }
   ],
   "source": [
    "# word count stats for target\n",
    "df_eh[['trgt_len']].describe(percentiles = [.25, .5, .75, .95]).transpose()"
   ]
  },
  {
   "cell_type": "code",
   "execution_count": 57,
   "metadata": {
    "colab": {
     "base_uri": "https://localhost:8080/"
    },
    "id": "jW82H6T6b2WP",
    "outputId": "1624069a-c12a-477b-e7d1-ce6f50f79314"
   },
   "outputs": [
    {
     "name": "stdout",
     "output_type": "stream",
     "text": [
      "The max length of source sentence is 10, while the max length for target sentence is 10\n"
     ]
    }
   ],
   "source": [
    "# declare the max word count\n",
    "max_word_count = 10\n",
    "\n",
    "# filtering recordd which has upto 19 words\n",
    "df_eh = df_eh[df_eh['src_len'] <= max_word_count]\n",
    "df_eh = df_eh[df_eh['trgt_len'] <= max_word_count]\n",
    "\n",
    "# max word count in dataframe\n",
    "print(f'The max length of source sentence is { df_eh.src_len.max() }, while the max length for target sentence is { df_eh.trgt_len.max() }')"
   ]
  },
  {
   "cell_type": "code",
   "execution_count": 58,
   "metadata": {
    "colab": {
     "base_uri": "https://localhost:8080/",
     "height": 649
    },
    "id": "Gk0USCD2b4tY",
    "outputId": "00327623-8c84-4e15-a94f-bcef5fff3f49"
   },
   "outputs": [
    {
     "data": {
      "text/html": [
       "<div>\n",
       "<style scoped>\n",
       "    .dataframe tbody tr th:only-of-type {\n",
       "        vertical-align: middle;\n",
       "    }\n",
       "\n",
       "    .dataframe tbody tr th {\n",
       "        vertical-align: top;\n",
       "    }\n",
       "\n",
       "    .dataframe thead th {\n",
       "        text-align: right;\n",
       "    }\n",
       "</style>\n",
       "<table border=\"1\" class=\"dataframe\">\n",
       "  <thead>\n",
       "    <tr style=\"text-align: right;\">\n",
       "      <th></th>\n",
       "      <th>src</th>\n",
       "      <th>trgt</th>\n",
       "      <th>src_len</th>\n",
       "      <th>trgt_len</th>\n",
       "    </tr>\n",
       "  </thead>\n",
       "  <tbody>\n",
       "    <tr>\n",
       "      <th>0</th>\n",
       "      <td>&lt;SOS&gt; अपने अनुप्रयोग को पहुंचनीयता व्यायाम का ...</td>\n",
       "      <td>&lt;SOS&gt; give your application an accessibility w...</td>\n",
       "      <td>10</td>\n",
       "      <td>8</td>\n",
       "    </tr>\n",
       "    <tr>\n",
       "      <th>1</th>\n",
       "      <td>&lt;SOS&gt; एक्सेर्साइसर पहुंचनीयता अन्वेषक &lt;EOS&gt;</td>\n",
       "      <td>&lt;SOS&gt; accerciser accessibility explorer &lt;EOS&gt;</td>\n",
       "      <td>5</td>\n",
       "      <td>5</td>\n",
       "    </tr>\n",
       "    <tr>\n",
       "      <th>2</th>\n",
       "      <td>&lt;SOS&gt; निचले पटल के लिए डिफोल्ट प्लगइन खाका &lt;EOS&gt;</td>\n",
       "      <td>&lt;SOS&gt; the default plugin layout for the bottom...</td>\n",
       "      <td>9</td>\n",
       "      <td>10</td>\n",
       "    </tr>\n",
       "    <tr>\n",
       "      <th>3</th>\n",
       "      <td>&lt;SOS&gt; ऊपरी पटल के लिए डिफोल्ट प्लगइन खाका &lt;EOS&gt;</td>\n",
       "      <td>&lt;SOS&gt; the default plugin layout for the top pa...</td>\n",
       "      <td>9</td>\n",
       "      <td>10</td>\n",
       "    </tr>\n",
       "    <tr>\n",
       "      <th>5</th>\n",
       "      <td>&lt;SOS&gt; अवधि को हाइलाइट रकें &lt;EOS&gt;</td>\n",
       "      <td>&lt;SOS&gt; highlight duration &lt;EOS&gt;</td>\n",
       "      <td>6</td>\n",
       "      <td>4</td>\n",
       "    </tr>\n",
       "  </tbody>\n",
       "</table>\n",
       "</div>"
      ],
      "text/plain": [
       "                                                 src  \\\n",
       "0  <SOS> अपने अनुप्रयोग को पहुंचनीयता व्यायाम का ...   \n",
       "1        <SOS> एक्सेर्साइसर पहुंचनीयता अन्वेषक <EOS>   \n",
       "2   <SOS> निचले पटल के लिए डिफोल्ट प्लगइन खाका <EOS>   \n",
       "3    <SOS> ऊपरी पटल के लिए डिफोल्ट प्लगइन खाका <EOS>   \n",
       "5                   <SOS> अवधि को हाइलाइट रकें <EOS>   \n",
       "\n",
       "                                                trgt  src_len  trgt_len  \n",
       "0  <SOS> give your application an accessibility w...       10         8  \n",
       "1      <SOS> accerciser accessibility explorer <EOS>        5         5  \n",
       "2  <SOS> the default plugin layout for the bottom...        9        10  \n",
       "3  <SOS> the default plugin layout for the top pa...        9        10  \n",
       "5                     <SOS> highlight duration <EOS>        6         4  "
      ]
     },
     "execution_count": 58,
     "metadata": {},
     "output_type": "execute_result"
    }
   ],
   "source": [
    "df_eh.head()"
   ]
  },
  {
   "cell_type": "code",
   "execution_count": 59,
   "metadata": {
    "id": "X6NcExZXcBeQ"
   },
   "outputs": [],
   "source": [
    "def pad_sequence(sequence, max_length, pad_token='<PAD>'):\n",
    "    padded_sequence = sequence + [pad_token] * (max_length - len(sequence))\n",
    "    return ' '.join(padded_sequence)\n",
    "\n",
    "df_eh['src_padded'] = df_eh['src'].apply(lambda x: pad_sequence(x.split(), max_word_count))\n",
    "df_eh['trgt_padded'] = df_eh['trgt'].apply(lambda x: pad_sequence(x.split(), max_word_count))"
   ]
  },
  {
   "cell_type": "code",
   "execution_count": 60,
   "metadata": {
    "colab": {
     "base_uri": "https://localhost:8080/",
     "height": 1000
    },
    "id": "mUvHaD3yebyg",
    "outputId": "c07122b0-ec09-458f-fcf2-46eca150580b"
   },
   "outputs": [
    {
     "data": {
      "text/html": [
       "<div>\n",
       "<style scoped>\n",
       "    .dataframe tbody tr th:only-of-type {\n",
       "        vertical-align: middle;\n",
       "    }\n",
       "\n",
       "    .dataframe tbody tr th {\n",
       "        vertical-align: top;\n",
       "    }\n",
       "\n",
       "    .dataframe thead th {\n",
       "        text-align: right;\n",
       "    }\n",
       "</style>\n",
       "<table border=\"1\" class=\"dataframe\">\n",
       "  <thead>\n",
       "    <tr style=\"text-align: right;\">\n",
       "      <th></th>\n",
       "      <th>src</th>\n",
       "      <th>trgt</th>\n",
       "      <th>src_len</th>\n",
       "      <th>trgt_len</th>\n",
       "      <th>src_padded</th>\n",
       "      <th>trgt_padded</th>\n",
       "    </tr>\n",
       "  </thead>\n",
       "  <tbody>\n",
       "    <tr>\n",
       "      <th>0</th>\n",
       "      <td>&lt;SOS&gt; अपने अनुप्रयोग को पहुंचनीयता व्यायाम का ...</td>\n",
       "      <td>&lt;SOS&gt; give your application an accessibility w...</td>\n",
       "      <td>10</td>\n",
       "      <td>8</td>\n",
       "      <td>&lt;SOS&gt; अपने अनुप्रयोग को पहुंचनीयता व्यायाम का ...</td>\n",
       "      <td>&lt;SOS&gt; give your application an accessibility w...</td>\n",
       "    </tr>\n",
       "    <tr>\n",
       "      <th>1</th>\n",
       "      <td>&lt;SOS&gt; एक्सेर्साइसर पहुंचनीयता अन्वेषक &lt;EOS&gt;</td>\n",
       "      <td>&lt;SOS&gt; accerciser accessibility explorer &lt;EOS&gt;</td>\n",
       "      <td>5</td>\n",
       "      <td>5</td>\n",
       "      <td>&lt;SOS&gt; एक्सेर्साइसर पहुंचनीयता अन्वेषक &lt;EOS&gt; &lt;P...</td>\n",
       "      <td>&lt;SOS&gt; accerciser accessibility explorer &lt;EOS&gt; ...</td>\n",
       "    </tr>\n",
       "    <tr>\n",
       "      <th>2</th>\n",
       "      <td>&lt;SOS&gt; निचले पटल के लिए डिफोल्ट प्लगइन खाका &lt;EOS&gt;</td>\n",
       "      <td>&lt;SOS&gt; the default plugin layout for the bottom...</td>\n",
       "      <td>9</td>\n",
       "      <td>10</td>\n",
       "      <td>&lt;SOS&gt; निचले पटल के लिए डिफोल्ट प्लगइन खाका &lt;EO...</td>\n",
       "      <td>&lt;SOS&gt; the default plugin layout for the bottom...</td>\n",
       "    </tr>\n",
       "    <tr>\n",
       "      <th>3</th>\n",
       "      <td>&lt;SOS&gt; ऊपरी पटल के लिए डिफोल्ट प्लगइन खाका &lt;EOS&gt;</td>\n",
       "      <td>&lt;SOS&gt; the default plugin layout for the top pa...</td>\n",
       "      <td>9</td>\n",
       "      <td>10</td>\n",
       "      <td>&lt;SOS&gt; ऊपरी पटल के लिए डिफोल्ट प्लगइन खाका &lt;EOS...</td>\n",
       "      <td>&lt;SOS&gt; the default plugin layout for the top pa...</td>\n",
       "    </tr>\n",
       "    <tr>\n",
       "      <th>5</th>\n",
       "      <td>&lt;SOS&gt; अवधि को हाइलाइट रकें &lt;EOS&gt;</td>\n",
       "      <td>&lt;SOS&gt; highlight duration &lt;EOS&gt;</td>\n",
       "      <td>6</td>\n",
       "      <td>4</td>\n",
       "      <td>&lt;SOS&gt; अवधि को हाइलाइट रकें &lt;EOS&gt; &lt;PAD&gt; &lt;PAD&gt; &lt;...</td>\n",
       "      <td>&lt;SOS&gt; highlight duration &lt;EOS&gt; &lt;PAD&gt; &lt;PAD&gt; &lt;PA...</td>\n",
       "    </tr>\n",
       "    <tr>\n",
       "      <th>...</th>\n",
       "      <td>...</td>\n",
       "      <td>...</td>\n",
       "      <td>...</td>\n",
       "      <td>...</td>\n",
       "      <td>...</td>\n",
       "      <td>...</td>\n",
       "    </tr>\n",
       "    <tr>\n",
       "      <th>27842</th>\n",
       "      <td>&lt;SOS&gt; नया प्रोजेक्ट बनाएं &lt;EOS&gt;</td>\n",
       "      <td>&lt;SOS&gt; create a new project &lt;EOS&gt;</td>\n",
       "      <td>5</td>\n",
       "      <td>6</td>\n",
       "      <td>&lt;SOS&gt; नया प्रोजेक्ट बनाएं &lt;EOS&gt; &lt;PAD&gt; &lt;PAD&gt; &lt;P...</td>\n",
       "      <td>&lt;SOS&gt; create a new project &lt;EOS&gt; &lt;PAD&gt; &lt;PAD&gt; &lt;...</td>\n",
       "    </tr>\n",
       "    <tr>\n",
       "      <th>27843</th>\n",
       "      <td>&lt;SOS&gt; आपको नई परियोजना चुनने की छूट देता है &lt;EOS&gt;</td>\n",
       "      <td>&lt;SOS&gt; let you choose your new project &lt;EOS&gt;</td>\n",
       "      <td>10</td>\n",
       "      <td>8</td>\n",
       "      <td>&lt;SOS&gt; आपको नई परियोजना चुनने की छूट देता है &lt;EOS&gt;</td>\n",
       "      <td>&lt;SOS&gt; let you choose your new project &lt;EOS&gt; &lt;P...</td>\n",
       "    </tr>\n",
       "    <tr>\n",
       "      <th>27848</th>\n",
       "      <td>&lt;SOS&gt; प्रोजेक्ट खोलें &lt;EOS&gt;</td>\n",
       "      <td>&lt;SOS&gt; open a project &lt;EOS&gt;</td>\n",
       "      <td>4</td>\n",
       "      <td>5</td>\n",
       "      <td>&lt;SOS&gt; प्रोजेक्ट खोलें &lt;EOS&gt; &lt;PAD&gt; &lt;PAD&gt; &lt;PAD&gt; ...</td>\n",
       "      <td>&lt;SOS&gt; open a project &lt;EOS&gt; &lt;PAD&gt; &lt;PAD&gt; &lt;PAD&gt; &lt;...</td>\n",
       "    </tr>\n",
       "    <tr>\n",
       "      <th>27849</th>\n",
       "      <td>&lt;SOS&gt; कोई फ़ाइल चयनित नहीं &lt;EOS&gt;</td>\n",
       "      <td>&lt;SOS&gt; no file selected &lt;EOS&gt;</td>\n",
       "      <td>6</td>\n",
       "      <td>5</td>\n",
       "      <td>&lt;SOS&gt; कोई फ़ाइल चयनित नहीं &lt;EOS&gt; &lt;PAD&gt; &lt;PAD&gt; &lt;...</td>\n",
       "      <td>&lt;SOS&gt; no file selected &lt;EOS&gt; &lt;PAD&gt; &lt;PAD&gt; &lt;PAD&gt;...</td>\n",
       "    </tr>\n",
       "    <tr>\n",
       "      <th>27850</th>\n",
       "      <td>&lt;SOS&gt; ब्रैसेरो — नया ऑडियो डिस्क परियोजना &lt;EOS&gt;</td>\n",
       "      <td>&lt;SOS&gt; brasero — new audio disc project &lt;EOS&gt;</td>\n",
       "      <td>8</td>\n",
       "      <td>8</td>\n",
       "      <td>&lt;SOS&gt; ब्रैसेरो — नया ऑडियो डिस्क परियोजना &lt;EOS...</td>\n",
       "      <td>&lt;SOS&gt; brasero — new audio disc project &lt;EOS&gt; &lt;...</td>\n",
       "    </tr>\n",
       "  </tbody>\n",
       "</table>\n",
       "<p>25000 rows × 6 columns</p>\n",
       "</div>"
      ],
      "text/plain": [
       "                                                     src  \\\n",
       "0      <SOS> अपने अनुप्रयोग को पहुंचनीयता व्यायाम का ...   \n",
       "1            <SOS> एक्सेर्साइसर पहुंचनीयता अन्वेषक <EOS>   \n",
       "2       <SOS> निचले पटल के लिए डिफोल्ट प्लगइन खाका <EOS>   \n",
       "3        <SOS> ऊपरी पटल के लिए डिफोल्ट प्लगइन खाका <EOS>   \n",
       "5                       <SOS> अवधि को हाइलाइट रकें <EOS>   \n",
       "...                                                  ...   \n",
       "27842                    <SOS> नया प्रोजेक्ट बनाएं <EOS>   \n",
       "27843  <SOS> आपको नई परियोजना चुनने की छूट देता है <EOS>   \n",
       "27848                        <SOS> प्रोजेक्ट खोलें <EOS>   \n",
       "27849                   <SOS> कोई फ़ाइल चयनित नहीं <EOS>   \n",
       "27850    <SOS> ब्रैसेरो — नया ऑडियो डिस्क परियोजना <EOS>   \n",
       "\n",
       "                                                    trgt  src_len  trgt_len  \\\n",
       "0      <SOS> give your application an accessibility w...       10         8   \n",
       "1          <SOS> accerciser accessibility explorer <EOS>        5         5   \n",
       "2      <SOS> the default plugin layout for the bottom...        9        10   \n",
       "3      <SOS> the default plugin layout for the top pa...        9        10   \n",
       "5                         <SOS> highlight duration <EOS>        6         4   \n",
       "...                                                  ...      ...       ...   \n",
       "27842                   <SOS> create a new project <EOS>        5         6   \n",
       "27843        <SOS> let you choose your new project <EOS>       10         8   \n",
       "27848                         <SOS> open a project <EOS>        4         5   \n",
       "27849                       <SOS> no file selected <EOS>        6         5   \n",
       "27850       <SOS> brasero — new audio disc project <EOS>        8         8   \n",
       "\n",
       "                                              src_padded  \\\n",
       "0      <SOS> अपने अनुप्रयोग को पहुंचनीयता व्यायाम का ...   \n",
       "1      <SOS> एक्सेर्साइसर पहुंचनीयता अन्वेषक <EOS> <P...   \n",
       "2      <SOS> निचले पटल के लिए डिफोल्ट प्लगइन खाका <EO...   \n",
       "3      <SOS> ऊपरी पटल के लिए डिफोल्ट प्लगइन खाका <EOS...   \n",
       "5      <SOS> अवधि को हाइलाइट रकें <EOS> <PAD> <PAD> <...   \n",
       "...                                                  ...   \n",
       "27842  <SOS> नया प्रोजेक्ट बनाएं <EOS> <PAD> <PAD> <P...   \n",
       "27843  <SOS> आपको नई परियोजना चुनने की छूट देता है <EOS>   \n",
       "27848  <SOS> प्रोजेक्ट खोलें <EOS> <PAD> <PAD> <PAD> ...   \n",
       "27849  <SOS> कोई फ़ाइल चयनित नहीं <EOS> <PAD> <PAD> <...   \n",
       "27850  <SOS> ब्रैसेरो — नया ऑडियो डिस्क परियोजना <EOS...   \n",
       "\n",
       "                                             trgt_padded  \n",
       "0      <SOS> give your application an accessibility w...  \n",
       "1      <SOS> accerciser accessibility explorer <EOS> ...  \n",
       "2      <SOS> the default plugin layout for the bottom...  \n",
       "3      <SOS> the default plugin layout for the top pa...  \n",
       "5      <SOS> highlight duration <EOS> <PAD> <PAD> <PA...  \n",
       "...                                                  ...  \n",
       "27842  <SOS> create a new project <EOS> <PAD> <PAD> <...  \n",
       "27843  <SOS> let you choose your new project <EOS> <P...  \n",
       "27848  <SOS> open a project <EOS> <PAD> <PAD> <PAD> <...  \n",
       "27849  <SOS> no file selected <EOS> <PAD> <PAD> <PAD>...  \n",
       "27850  <SOS> brasero — new audio disc project <EOS> <...  \n",
       "\n",
       "[25000 rows x 6 columns]"
      ]
     },
     "execution_count": 60,
     "metadata": {},
     "output_type": "execute_result"
    }
   ],
   "source": [
    "ld = len(df_eh)\n",
    "# df_eh_slice50 = pd.concat[df_eh[:50000], df_eh[ld//2:ld//2 + 50000]], ignore_index=True)\n",
    "df_eh_slice50 = df_eh[:25000]\n",
    "df_eh_slice50"
   ]
  },
  {
   "cell_type": "code",
   "execution_count": 61,
   "metadata": {
    "colab": {
     "base_uri": "https://localhost:8080/"
    },
    "id": "6IjA3VGYenka",
    "outputId": "0b414ef6-cce8-42ed-bf9c-83228a490a9a"
   },
   "outputs": [
    {
     "name": "stdout",
     "output_type": "stream",
     "text": [
      "In total there are 2354 source words & 2151 target words\n"
     ]
    }
   ],
   "source": [
    "all_src_words=set()\n",
    "for s in df_eh_slice50['src_padded']:\n",
    "    for word in s.split():\n",
    "        if word not in all_src_words:\n",
    "            all_src_words.add(word)\n",
    "\n",
    "all_trgt_words=set()\n",
    "for t in df_eh_slice50['trgt_padded']:\n",
    "    for word in t.split():\n",
    "        if word not in all_trgt_words:\n",
    "            all_trgt_words.add(word)\n",
    "print(f\"In total there are {len(all_src_words)} source words & {len(all_trgt_words)} target words\")"
   ]
  },
  {
   "cell_type": "code",
   "execution_count": 62,
   "metadata": {
    "id": "WoeJnYFrhvZ5"
   },
   "outputs": [],
   "source": [
    "class Vocabulary:\n",
    "    def __init__(self):\n",
    "        self.word_2_index = {}  # Your word to index mapping\n",
    "        self.index_2_word = {}  # Your index to word mapping\n",
    "        self.special_tokens = {}  # Dictionary to store special tokens\n",
    "\n",
    "    def add_word(self, word):\n",
    "        if word not in self.word_2_index:\n",
    "            index = len(self.word_2_index)\n",
    "            self.word_2_index[word] = index\n",
    "            self.index_2_word[index] = word\n",
    "\n",
    "    def add_special_token(self, token):\n",
    "        self.special_tokens[token] = self.add_word(token)\n",
    "\n",
    "    def get_index(self, word):\n",
    "        return self.word_2_index.get(word, None)\n",
    "\n",
    "    def get_word(self, index):\n",
    "        return self.index_2_word.get(index, None)\n",
    "    \n",
    "    def get_size(self):\n",
    "        return len(self.word_2_index)"
   ]
  },
  {
   "cell_type": "code",
   "execution_count": 63,
   "metadata": {},
   "outputs": [],
   "source": [
    "# Create Vocabulary instances\n",
    "src_vocab = Vocabulary()\n",
    "trgt_vocab = Vocabulary()\n",
    "\n",
    "# Add words to vocabularies\n",
    "for word in all_src_words:\n",
    "    src_vocab.add_word(word)\n",
    "\n",
    "for word in all_trgt_words:\n",
    "    trgt_vocab.add_word(word)\n",
    "\n",
    "# Add special tokens if needed\n",
    "for token in ['<SOS>', '<EOS>', '<PAD>']:\n",
    "    src_vocab.add_special_token(token)\n",
    "    trgt_vocab.add_special_token(token)"
   ]
  },
  {
   "cell_type": "code",
   "execution_count": 64,
   "metadata": {},
   "outputs": [],
   "source": [
    "#setting the device to \"cuda\" if available\n",
    "device = torch.device(\"cuda\" if torch.cuda.is_available() else \"cpu\")"
   ]
  },
  {
   "cell_type": "code",
   "execution_count": 65,
   "metadata": {
    "id": "QjFYodHLnlSx"
   },
   "outputs": [],
   "source": [
    "def row_to_tensor(row, src_vocab, trgt_vocab):\n",
    "    src_sequence = row['src_padded'].split()  # Split the string into a list of words\n",
    "    trgt_sequence = row['trgt_padded'].split()  # Split the string into a list of words\n",
    "\n",
    "    # Convert words to indices using the vocabularies\n",
    "    indexes_src = [src_vocab.get_index(word) for word in src_sequence]\n",
    "    indexes_trgt = [trgt_vocab.get_index(word) for word in trgt_sequence]\n",
    "\n",
    "    # Create tensors\n",
    "    src_tensor = torch.tensor(indexes_src, dtype=torch.long).view(-1, 1)\n",
    "    trgt_tensor = torch.tensor(indexes_trgt, dtype=torch.long).view(-1, 1)\n",
    "\n",
    "    return src_tensor, trgt_tensor\n",
    "\n",
    "# Convert each row to tensors\n",
    "src_tensors = []\n",
    "trgt_tensors = []\n",
    "for index, row in df_eh_slice50.iterrows():\n",
    "    src_tensor, trgt_tensor = row_to_tensor(row, src_vocab, trgt_vocab)\n",
    "    src_tensors.append(src_tensor)\n",
    "    trgt_tensors.append(trgt_tensor)"
   ]
  },
  {
   "cell_type": "code",
   "execution_count": 66,
   "metadata": {
    "id": "6AInXWKsntwo"
   },
   "outputs": [],
   "source": [
    "class Transformer_model(nn.Module):\n",
    "    def __init__(self, embed_size, len_src_vocab, len_trgt_vocab, src_pad_index, num_heads, enc_layers, dec_layers, forward_exp, dropout, max_length,device):\n",
    "        super(Transformer_model,self).__init__()\n",
    "        self.src_word_embed=nn.Embedding(len_src_vocab, embed_size) #shape: (len_hin_vocab, embed_size)\n",
    "        self.trgt_word_embed=nn.Embedding(len_trgt_vocab, embed_size) #shape: (len_eng_vocab, embed_size)\n",
    "        self.src_positional_embed=nn.Embedding(max_length, embed_size) #shape: (MAX_LENGTH, embed_size)\n",
    "        self.trgt_positional_embed=nn.Embedding(max_length, embed_size)  #shape: (MAX_LENGTH, embed_size)\n",
    "        self.device=device\n",
    "        self.transformer_layer=nn.Transformer(embed_size, num_heads,enc_layers, dec_layers, forward_expansion, dropout)\n",
    "        self.out_fc=nn.Linear(embed_size, len_trgt_vocab)    #linear layer to predicted the output word\n",
    "        self.dropout=nn.Dropout(dropout)\n",
    "        self.src_pad_index=src_pad_index\n",
    "\n",
    "    def gen_mask_for_src(self, source):\n",
    "        #need to transpose source as padding need to be of size (batch_size, seq_len) but source is of shape (seq_len, batch_size)\n",
    "        source=source.transpose(0,1)\n",
    "        mask=(source==self.src_pad_index) #(mask will contain 1 where there is pad token, and 0 otherwise)\n",
    "        return mask.to(self.device)\n",
    "\n",
    "    def forward(self, src, target):\n",
    "        src_seq_length, batch_size=src.shape\n",
    "        trgt_seq_length, batch_size=target.shape\n",
    "        # creating positional embeddings to encode position of words in transformer (it will be just a range array upto max_length)\n",
    "        src_positional=torch.arange(0,src_seq_length).unsqueeze(1).expand(src_seq_length, batch_size).to(self.device)\n",
    "        trgt_positional=torch.arange(0,trgt_seq_length).unsqueeze(1).expand(trgt_seq_length, batch_size).to(self.device)\n",
    "        # calculating embeddings as sum of positional and word embeddings\n",
    "        src_embedding=self.dropout(self.src_word_embed(src)+self.src_positional_embed(src_positional))\n",
    "        trgt_embedding=self.dropout(self.trgt_word_embed(target)+self.trgt_positional_embed(trgt_positional))\n",
    "        # generating padding mask for hindi (source)\n",
    "        src_padding_mask=self.gen_mask_for_src(src)\n",
    "        # using in-built transformer function to generate mask for english (target)\n",
    "        # It will be in form of a lower-triangular matrix\n",
    "        trgt_mask=self.transformer_layer.generate_square_subsequent_mask(trgt_seq_length).to(self.device)\n",
    "        output=self.transformer_layer(src_embedding, trgt_embedding, src_key_padding_mask=src_padding_mask, tgt_mask=trgt_mask)\n",
    "        output=self.out_fc(output)\n",
    "        return output"
   ]
  },
  {
   "cell_type": "code",
   "execution_count": 67,
   "metadata": {
    "id": "4RG15PPosFOV"
   },
   "outputs": [
    {
     "name": "stdout",
     "output_type": "stream",
     "text": [
      "2133\n"
     ]
    }
   ],
   "source": [
    "\n",
    "# defining model parameters\n",
    "embed_size=512\n",
    "len_src_vocab=src_vocab.get_size()\n",
    "len_trgt_vocab=trgt_vocab.get_size()\n",
    "padding_idx=trgt_vocab.word_2_index[\"<PAD>\"]\n",
    "num_heads=8\n",
    "enc_layers, dec_layers= 6,6\n",
    "dropout=0.10\n",
    "forward_expansion=4\n",
    "\n",
    "print(padding_idx)"
   ]
  },
  {
   "cell_type": "code",
   "execution_count": 68,
   "metadata": {
    "id": "wgl9usKesWKx"
   },
   "outputs": [
    {
     "name": "stderr",
     "output_type": "stream",
     "text": [
      "/home/bindra.p/.local/lib/python3.8/site-packages/torch/nn/modules/transformer.py:282: UserWarning: enable_nested_tensor is True, but self.use_nested_tensor is False because encoder_layer.self_attn.batch_first was not True(use batch_first for better inference performance)\n",
      "  warnings.warn(f\"enable_nested_tensor is True, but self.use_nested_tensor is False because {why_not_sparsity_fast_path}\")\n"
     ]
    }
   ],
   "source": [
    "model=Transformer_model(embed_size, len_src_vocab, len_trgt_vocab, padding_idx, num_heads, enc_layers, dec_layers, forward_expansion, dropout, max_word_count+2,device).to(device)"
   ]
  },
  {
   "cell_type": "code",
   "execution_count": 70,
   "metadata": {
    "id": "prLaA2Rhsh4r"
   },
   "outputs": [],
   "source": [
    "model_available=False"
   ]
  },
  {
   "cell_type": "code",
   "execution_count": 72,
   "metadata": {
    "id": "vEy4B3NqwEQ0"
   },
   "outputs": [
    {
     "name": "stdout",
     "output_type": "stream",
     "text": [
      "epoch 1/10\n",
      "    running batch 100 of 390\n",
      "    running batch 200 of 390\n",
      "    running batch 300 of 390\n",
      "Epoch loss : 4.8818206787109375\n",
      "epoch 2/10\n",
      "    running batch 100 of 390\n",
      "    running batch 200 of 390\n",
      "    running batch 300 of 390\n",
      "Epoch loss : 4.636406421661377\n",
      "epoch 3/10\n",
      "    running batch 100 of 390\n",
      "    running batch 200 of 390\n",
      "    running batch 300 of 390\n",
      "Epoch loss : 4.820560932159424\n",
      "epoch 4/10\n",
      "    running batch 100 of 390\n",
      "    running batch 200 of 390\n",
      "    running batch 300 of 390\n",
      "Epoch loss : 4.779386043548584\n",
      "epoch 5/10\n",
      "    running batch 100 of 390\n",
      "    running batch 200 of 390\n",
      "    running batch 300 of 390\n",
      "Epoch loss : 4.798448085784912\n",
      "epoch 6/10\n",
      "    running batch 100 of 390\n",
      "    running batch 200 of 390\n",
      "    running batch 300 of 390\n",
      "Epoch loss : 4.732665538787842\n",
      "epoch 7/10\n",
      "    running batch 100 of 390\n",
      "    running batch 200 of 390\n",
      "    running batch 200 of 390\n",
      "    running batch 300 of 390\n",
      "Epoch loss : 4.690841197967529\n"
     ]
    }
   ],
   "source": [
    "batch_size=64\n",
    "optimizer=optim.Adam(model.parameters(),lr=0.001)\n",
    "PATH=\"/home/bindra.p/cs6140/nmt-models/model-transformer-hi-en.pth\"\n",
    "\n",
    "epochs=10\n",
    "epoch_loss=0.0\n",
    "\n",
    "criterion=nn.CrossEntropyLoss(ignore_index=padding_idx) #ignore padding index while calculating loss\n",
    "\n",
    "train_model=True #if need to train the model again, set it to True\n",
    "\n",
    "if train_model==False:\n",
    "    model=torch.load(PATH)\n",
    "else:\n",
    "    if model_available:\n",
    "        model=torch.load(PATH)\n",
    "    batches=(df_eh_slice50.shape[0])//batch_size\n",
    "    for epoch in range(epochs):\n",
    "        print(f\"epoch {epoch+1}/{epochs}\")\n",
    "        model.eval()\n",
    "        model.train(True)\n",
    "        cur_batch=0\n",
    "        for idx in range(0,(df_eh_slice50.shape[0]),batch_size):\n",
    "            # will do processing for each batch\n",
    "            cur_batch+=1\n",
    "            if(cur_batch%100==0):\n",
    "                print(f\"    running batch {cur_batch} of {batches}\")\n",
    "            if idx+batch_size < (df_eh_slice50.shape[0]):\n",
    "                src_batch=src_tensors[idx:idx+batch_size]\n",
    "                target_batch=trgt_tensors[idx:idx+batch_size]\n",
    "            else:\n",
    "                src_batch=src_tensors[idx:]\n",
    "                target_batch=trgt_tensors[idx:]\n",
    "\n",
    "            src_batch=torch.cat(src_batch,dim=1).to(device)    #shape: (max_lenbatch_size)\n",
    "            target_batch=torch.cat(target_batch,dim=1).to(device) #shape: (max_lenbatch_size)\n",
    "            output=model(src_batch,target_batch[:-1,:])\n",
    "            output=output.reshape(-1, output.shape[2])\n",
    "\n",
    "            target=target_batch[1:].reshape(-1)\n",
    "\n",
    "            optimizer.zero_grad()\n",
    "            loss=criterion(output,target)\n",
    "\n",
    "            loss.backward()\n",
    "            # restrict gradients from exploding\n",
    "            torch.nn.utils.clip_grad_norm_(model.parameters(), max_norm=1)\n",
    "\n",
    "            optimizer.step()\n",
    "            epoch_loss += loss.item()\n",
    "\n",
    "        print(f\"Epoch loss : {loss.item()}\")\n",
    "\n",
    "        torch.save(model,PATH)\n",
    "        model_available=True\n"
   ]
  },
  {
   "cell_type": "code",
   "execution_count": 75,
   "metadata": {},
   "outputs": [],
   "source": [
    "def clean_sentence(sentence):\n",
    "    '''\n",
    "      Function to remove the punctuation from the test sentence\n",
    "    '''\n",
    "    punctuations=list(string.punctuation)\n",
    "    cleaned=\"\"\n",
    "    for letter in sentence:\n",
    "        if letter=='<' or letter=='>' or letter not in punctuations:\n",
    "            cleaned+=letter\n",
    "    return cleaned  \n",
    "\n",
    "def predict_translation(model,sentence,device,max_length=max_word_count):\n",
    "    '''\n",
    "      function will return the translation predicted by the trained model for each sentence\n",
    "    '''\n",
    "    sentence=clean_sentence(sentence)\n",
    "    tokens=sentence.split(\" \")\n",
    "    indexes=[]\n",
    "    for token in tokens:\n",
    "        if token in src_vocab.word_2_index:\n",
    "            indexes.append(src_vocab.word_2_index[token])\n",
    "        else:\n",
    "            continue\n",
    "    indexes=indexes[:max_length+2]  # model is trained on MAX_LENGTH sentences only so it expects sentences of this length only \n",
    "    tensor_of_sentence=torch.LongTensor(indexes).unsqueeze(1).to(device)\n",
    "    outputs=[0]   #adding  in the beginning of output\n",
    "    for _ in range(max_length):\n",
    "        target_tensor = torch.LongTensor(outputs).unsqueeze(1).to(device)\n",
    "        with torch.no_grad():\n",
    "            output=model(tensor_of_sentence,target_tensor)\n",
    "        pred=output.argmax(2)[-1, :].item()\n",
    "\n",
    "        outputs.append(pred)\n",
    "\n",
    "        if trgt_vocab.index_2_word[pred] ==\"\":\n",
    "            break\n",
    "    \n",
    "    final=[]\n",
    "\n",
    "    for i in outputs:\n",
    "        if i == \"<PAD>\":\n",
    "            break\n",
    "        final.append(i)\n",
    "\n",
    "    final = [trgt_vocab.index_2_word[idx] for idx in final]\n",
    "    translated=\" \".join(final)\n",
    "    return translated"
   ]
  },
  {
   "cell_type": "code",
   "execution_count": 76,
   "metadata": {},
   "outputs": [
    {
     "name": "stderr",
     "output_type": "stream",
     "text": [
      "<ipython-input-76-64bfad1a82f6>:11: SettingWithCopyWarning: \n",
      "A value is trying to be set on a copy of a slice from a DataFrame.\n",
      "Try using .loc[row_indexer,col_indexer] = value instead\n",
      "\n",
      "See the caveats in the documentation: https://pandas.pydata.org/pandas-docs/stable/user_guide/indexing.html#returning-a-view-versus-a-copy\n",
      "  test_df['translated_sentence'] = \"\"\n"
     ]
    },
    {
     "name": "stdout",
     "output_type": "stream",
     "text": [
      "********************\n",
      "Src: <SOS> एक्सेर्साइसर पहुंचनीयता अन्वेषक <EOS> <PAD> <PAD> <PAD> <PAD> <PAD>\n",
      "Actual: <SOS> accerciser accessibility explorer <EOS> <PAD> <PAD> <PAD> <PAD> <PAD>\n",
      "Predicted: destination <EOS> <EOS> <EOS> <EOS> <EOS> <EOS> <EOS> <EOS> <EOS> <EOS>\n",
      "********************\n",
      "********************\n",
      "Src: <SOS> निचले पटल के लिए डिफोल्ट प्लगइन खाका <EOS> <PAD>\n",
      "Actual: <SOS> the default plugin layout for the bottom panel <EOS>\n",
      "Predicted: destination <EOS> <EOS> <EOS> <EOS> <EOS> <EOS> <EOS> <EOS> <EOS> <EOS>\n",
      "********************\n",
      "********************\n",
      "Src: <SOS> ऊपरी पटल के लिए डिफोल्ट प्लगइन खाका <EOS> <PAD>\n",
      "Actual: <SOS> the default plugin layout for the top panel <EOS>\n",
      "Predicted: destination <EOS> <EOS> <EOS> <EOS> <EOS> <EOS> <EOS> <EOS> <EOS> <EOS>\n",
      "********************\n",
      "********************\n",
      "Src: <SOS> अवधि को हाइलाइट रकें <EOS> <PAD> <PAD> <PAD> <PAD>\n",
      "Actual: <SOS> highlight duration <EOS> <PAD> <PAD> <PAD> <PAD> <PAD> <PAD>\n",
      "Predicted: destination <EOS> <EOS> <EOS> <EOS> <EOS> <EOS> <EOS> <EOS> <EOS> <EOS>\n",
      "********************\n",
      "********************\n",
      "Src: <SOS> सीमांत बोर्डर के रंग को हाइलाइट करें <EOS> <PAD>\n",
      "Actual: <SOS> highlight border color <EOS> <PAD> <PAD> <PAD> <PAD> <PAD>\n",
      "Predicted: destination <EOS> <EOS> <EOS> <EOS> <EOS> <EOS> <EOS> <EOS> <EOS> <EOS>\n",
      "********************\n",
      "********************\n",
      "Src: <SOS> हाइलाइट किए गए सीमांत का रंग और अपारदर्शिता। <EOS>\n",
      "Actual: <SOS> the color and opacity of the highlight border <EOS>\n",
      "Predicted: destination <EOS> <EOS> <EOS> <EOS> <EOS> <EOS> <EOS> <EOS> <EOS> <EOS>\n",
      "********************\n",
      "********************\n",
      "Src: <SOS> भराई के रंग को हाइलाइट करें <EOS> <PAD> <PAD>\n",
      "Actual: <SOS> highlight fill color <EOS> <PAD> <PAD> <PAD> <PAD> <PAD>\n",
      "Predicted: destination <EOS> <EOS> <EOS> <EOS> <EOS> <EOS> <EOS> <EOS> <EOS> <EOS>\n",
      "********************\n",
      "********************\n",
      "Src: <SOS> हाइलाइट किया गया भराई का रंग और पारदर्शिता। <EOS>\n",
      "Actual: <SOS> the color and opacity of the highlight fill <EOS>\n",
      "Predicted: destination <EOS> <EOS> <EOS> <EOS> <EOS> <EOS> <EOS> <EOS> <EOS> <EOS>\n",
      "********************\n",
      "********************\n",
      "Src: <SOS> एपीआई विचरक <EOS> <PAD> <PAD> <PAD> <PAD> <PAD> <PAD>\n",
      "Actual: <SOS> api browser <EOS> <PAD> <PAD> <PAD> <PAD> <PAD> <PAD>\n",
      "Predicted: destination <EOS> <EOS> <EOS> <EOS> <EOS> <EOS> <EOS> <EOS> <EOS> <EOS>\n",
      "********************\n"
     ]
    }
   ],
   "source": [
    "# Extracting sentences for rows 50000-60000\n",
    "test_df_1 = df_eh.iloc[1 : 10]\n",
    "\n",
    "# Extracting sentences for rows 100000-110000\n",
    "# test_df_2 = df_eh.iloc[100000:110001]\n",
    "\n",
    "# Concatenating the two DataFrames to get the final DataFrame of test sentences\n",
    "# test_df = pd.concat([test_df_1, test_df_2])\n",
    "test_df = test_df_1\n",
    " \n",
    "test_df['translated_sentence'] = \"\"\n",
    "\n",
    "# Now, you can use the sentences from the DataFrame in your loop\n",
    "for idx, row in test_df.iterrows():\n",
    "#     print(\"i =\", idx)\n",
    "    hindi_sentence = row['src_padded']\n",
    "    actual_translation = row['trgt_padded']\n",
    "    \n",
    "    translated = predict_translation(model, hindi_sentence, device)\n",
    "    \n",
    "#     test_df.at[idx, 'translated_sentence'] = translated\n",
    "    \n",
    "    print(\"*\" * 20)\n",
    "    print(f\"Src: {hindi_sentence}\")\n",
    "    print(f\"Actual: {actual_translation}\")\n",
    "    print(f\"Predicted: {translated}\")\n",
    "    print(\"*\" * 20)"
   ]
  },
  {
   "cell_type": "code",
   "execution_count": null,
   "metadata": {},
   "outputs": [],
   "source": []
  }
 ],
 "metadata": {
  "colab": {
   "provenance": []
  },
  "kernelspec": {
   "display_name": "Python 3 (ipykernel)",
   "language": "python",
   "name": "python3"
  },
  "language_info": {
   "codemirror_mode": {
    "name": "ipython",
    "version": 3
   },
   "file_extension": ".py",
   "mimetype": "text/x-python",
   "name": "python",
   "nbconvert_exporter": "python",
   "pygments_lexer": "ipython3",
   "version": "3.11.5"
  }
 },
 "nbformat": 4,
 "nbformat_minor": 4
}
